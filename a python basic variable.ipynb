{
 "cells": [
  {
   "cell_type": "code",
   "execution_count": 42,
   "id": "10840976-ae73-4e5f-83d3-2fe08f358bc4",
   "metadata": {},
   "outputs": [
    {
     "data": {
      "text/plain": [
       "3"
      ]
     },
     "execution_count": 42,
     "metadata": {},
     "output_type": "execute_result"
    }
   ],
   "source": [
    "1+2\n"
   ]
  },
  {
   "cell_type": "code",
   "execution_count": 43,
   "id": "d0b29a9a-412d-4bc3-9103-a60a6764fa9a",
   "metadata": {},
   "outputs": [],
   "source": [
    "a=10"
   ]
  },
  {
   "cell_type": "code",
   "execution_count": 44,
   "id": "69136ce4-26e6-4b89-a416-7b6b8078bebc",
   "metadata": {},
   "outputs": [
    {
     "data": {
      "text/plain": [
       "10"
      ]
     },
     "execution_count": 44,
     "metadata": {},
     "output_type": "execute_result"
    }
   ],
   "source": [
    "a"
   ]
  },
  {
   "cell_type": "code",
   "execution_count": 45,
   "id": "c3d23aad-2182-43d3-b1e4-fb8abaa1c1a4",
   "metadata": {
    "tags": []
   },
   "outputs": [
    {
     "data": {
      "text/plain": [
       "int"
      ]
     },
     "execution_count": 45,
     "metadata": {},
     "output_type": "execute_result"
    }
   ],
   "source": [
    "type(a)"
   ]
  },
  {
   "cell_type": "code",
   "execution_count": 46,
   "id": "2f6e409e-c958-4251-80db-9d3ad684a5cd",
   "metadata": {},
   "outputs": [],
   "source": [
    "s='atul'"
   ]
  },
  {
   "cell_type": "code",
   "execution_count": 47,
   "id": "086d2b18-8c3a-4aff-8c3c-7d4a79cbfc4e",
   "metadata": {},
   "outputs": [
    {
     "data": {
      "text/plain": [
       "str"
      ]
     },
     "execution_count": 47,
     "metadata": {},
     "output_type": "execute_result"
    }
   ],
   "source": [
    "type(s)\n"
   ]
  },
  {
   "cell_type": "code",
   "execution_count": 48,
   "id": "a67e99c7-e2c5-4fb5-b4c5-777da537d341",
   "metadata": {},
   "outputs": [],
   "source": [
    "s1=\"This is my  first python class\""
   ]
  },
  {
   "cell_type": "code",
   "execution_count": 49,
   "id": "be6a0008-b7d4-4027-a875-c584b88c14d0",
   "metadata": {},
   "outputs": [
    {
     "data": {
      "text/plain": [
       "'This is my  first python class'"
      ]
     },
     "execution_count": 49,
     "metadata": {},
     "output_type": "execute_result"
    }
   ],
   "source": [
    "s1"
   ]
  },
  {
   "cell_type": "code",
   "execution_count": 50,
   "id": "7607cb18-69dd-4b81-af4a-0c2050f7d9de",
   "metadata": {},
   "outputs": [],
   "source": [
    "f=453.53"
   ]
  },
  {
   "cell_type": "code",
   "execution_count": 51,
   "id": "25e7c267-56ea-40d3-bc92-6e14ddb41e1a",
   "metadata": {},
   "outputs": [
    {
     "data": {
      "text/plain": [
       "float"
      ]
     },
     "execution_count": 51,
     "metadata": {},
     "output_type": "execute_result"
    }
   ],
   "source": [
    "type(f)"
   ]
  },
  {
   "cell_type": "code",
   "execution_count": 52,
   "id": "159b596f-5888-4929-b75d-8dd76c0dba5f",
   "metadata": {},
   "outputs": [],
   "source": [
    "c = 5 + 6j"
   ]
  },
  {
   "cell_type": "code",
   "execution_count": 53,
   "id": "d859d0c0-c2d5-48c9-a2d2-a096ba4aef66",
   "metadata": {},
   "outputs": [
    {
     "data": {
      "text/plain": [
       "complex"
      ]
     },
     "execution_count": 53,
     "metadata": {},
     "output_type": "execute_result"
    }
   ],
   "source": [
    "type(c)\n"
   ]
  },
  {
   "cell_type": "code",
   "execution_count": 54,
   "id": "9593d887-2376-4ddc-8b30-091eee0e751e",
   "metadata": {},
   "outputs": [
    {
     "data": {
      "text/plain": [
       "(5+6j)"
      ]
     },
     "execution_count": 54,
     "metadata": {},
     "output_type": "execute_result"
    }
   ],
   "source": [
    "c\n"
   ]
  },
  {
   "cell_type": "code",
   "execution_count": 55,
   "id": "94d733ae-defc-4ff7-84a4-6525f7369c85",
   "metadata": {},
   "outputs": [
    {
     "data": {
      "text/plain": [
       "5.0"
      ]
     },
     "execution_count": 55,
     "metadata": {},
     "output_type": "execute_result"
    }
   ],
   "source": [
    "c.real\n"
   ]
  },
  {
   "cell_type": "code",
   "execution_count": 56,
   "id": "cc1eb0a9-ea30-44d2-a73f-95a786902ac2",
   "metadata": {},
   "outputs": [
    {
     "data": {
      "text/plain": [
       "6.0"
      ]
     },
     "execution_count": 56,
     "metadata": {},
     "output_type": "execute_result"
    }
   ],
   "source": [
    "c.imag\n"
   ]
  },
  {
   "cell_type": "code",
   "execution_count": 57,
   "id": "3ef9abbb-2329-42d2-91de-bbe60741a49b",
   "metadata": {},
   "outputs": [],
   "source": [
    "b=True"
   ]
  },
  {
   "cell_type": "code",
   "execution_count": 58,
   "id": "d30765e9-54f1-42c5-b513-e67e502375a4",
   "metadata": {},
   "outputs": [
    {
     "data": {
      "text/plain": [
       "bool"
      ]
     },
     "execution_count": 58,
     "metadata": {},
     "output_type": "execute_result"
    }
   ],
   "source": [
    "type(b)"
   ]
  },
  {
   "cell_type": "code",
   "execution_count": 59,
   "id": "f6567c74-d0c8-4287-b05a-59541b7e0364",
   "metadata": {},
   "outputs": [],
   "source": [
    "b1=False"
   ]
  },
  {
   "cell_type": "code",
   "execution_count": 60,
   "id": "aef4e605-5994-475b-8d7c-764d85ef4510",
   "metadata": {},
   "outputs": [
    {
     "data": {
      "text/plain": [
       "False"
      ]
     },
     "execution_count": 60,
     "metadata": {},
     "output_type": "execute_result"
    }
   ],
   "source": [
    "b1"
   ]
  },
  {
   "cell_type": "code",
   "execution_count": 61,
   "id": "b97c74a0-c75f-43a0-ae26-151377f648e2",
   "metadata": {},
   "outputs": [],
   "source": [
    "a1=45\n",
    "a2=32"
   ]
  },
  {
   "cell_type": "code",
   "execution_count": 62,
   "id": "86b82ceb-a2fd-4ef8-ba0f-355a43e5f98c",
   "metadata": {},
   "outputs": [
    {
     "data": {
      "text/plain": [
       "77"
      ]
     },
     "execution_count": 62,
     "metadata": {},
     "output_type": "execute_result"
    }
   ],
   "source": [
    "a1+a2"
   ]
  },
  {
   "cell_type": "code",
   "execution_count": 63,
   "id": "726b7d87-511e-4eba-80ff-59e05b5ba8d2",
   "metadata": {},
   "outputs": [
    {
     "data": {
      "text/plain": [
       "1440"
      ]
     },
     "execution_count": 63,
     "metadata": {},
     "output_type": "execute_result"
    }
   ],
   "source": [
    "a1*a2"
   ]
  },
  {
   "cell_type": "code",
   "execution_count": 64,
   "id": "bd4bbc6f-6dc3-40ae-9113-0f73746f905a",
   "metadata": {},
   "outputs": [
    {
     "data": {
      "text/plain": [
       "0.7111111111111111"
      ]
     },
     "execution_count": 64,
     "metadata": {},
     "output_type": "execute_result"
    }
   ],
   "source": [
    "a2/a1"
   ]
  },
  {
   "cell_type": "code",
   "execution_count": 65,
   "id": "5cd6de05-4f21-49a9-b5c8-e907be798944",
   "metadata": {},
   "outputs": [
    {
     "data": {
      "text/plain": [
       "13"
      ]
     },
     "execution_count": 65,
     "metadata": {},
     "output_type": "execute_result"
    }
   ],
   "source": [
    "a1-a2"
   ]
  },
  {
   "cell_type": "code",
   "execution_count": 66,
   "id": "894b010d-b143-4ca2-b8f4-4a2bf3d7b49e",
   "metadata": {},
   "outputs": [],
   "source": [
    "a1 , a2 = 34 , 45"
   ]
  },
  {
   "cell_type": "code",
   "execution_count": 67,
   "id": "ec81367f-a1d5-4b23-b748-ccd2514de9b0",
   "metadata": {},
   "outputs": [
    {
     "data": {
      "text/plain": [
       "34"
      ]
     },
     "execution_count": 67,
     "metadata": {},
     "output_type": "execute_result"
    }
   ],
   "source": [
    "a1"
   ]
  },
  {
   "cell_type": "code",
   "execution_count": 68,
   "id": "0a61719a-1a95-42f4-926a-29068a8afc6c",
   "metadata": {},
   "outputs": [
    {
     "data": {
      "text/plain": [
       "45"
      ]
     },
     "execution_count": 68,
     "metadata": {},
     "output_type": "execute_result"
    }
   ],
   "source": [
    "a2"
   ]
  },
  {
   "cell_type": "code",
   "execution_count": 69,
   "id": "c2ef1fdd-8ff3-4a8f-ab68-ec196a571437",
   "metadata": {},
   "outputs": [],
   "source": [
    "a,b,c,d = 312,\"ram\",True,312.4"
   ]
  },
  {
   "cell_type": "code",
   "execution_count": 70,
   "id": "21625cc9-9ce7-4635-92c2-b94590a25980",
   "metadata": {},
   "outputs": [
    {
     "data": {
      "text/plain": [
       "float"
      ]
     },
     "execution_count": 70,
     "metadata": {},
     "output_type": "execute_result"
    }
   ],
   "source": [
    "type(d)"
   ]
  },
  {
   "cell_type": "code",
   "execution_count": 71,
   "id": "e56d3869-cc42-48f5-8fd0-3dbaccc16e74",
   "metadata": {},
   "outputs": [],
   "source": [
    "# %a = 234"
   ]
  },
  {
   "cell_type": "code",
   "execution_count": 72,
   "id": "ef81f5bc-91bf-4dc3-9e8d-665893347d45",
   "metadata": {},
   "outputs": [],
   "source": [
    "# underscore before word is valid like{ _a=4}"
   ]
  },
  {
   "cell_type": "code",
   "execution_count": 73,
   "id": "7e29fe60-21f8-400f-a5ed-8382c9156f60",
   "metadata": {},
   "outputs": [],
   "source": [
    "b1 = True #value 1"
   ]
  },
  {
   "cell_type": "code",
   "execution_count": 74,
   "id": "8509c2b7-e081-492a-b8bb-33d12014bab8",
   "metadata": {},
   "outputs": [],
   "source": [
    "b2 = False #value 0"
   ]
  },
  {
   "cell_type": "code",
   "execution_count": 75,
   "id": "3b5f3f04-7d46-4b7e-b789-a29bacd13b58",
   "metadata": {},
   "outputs": [
    {
     "data": {
      "text/plain": [
       "1"
      ]
     },
     "execution_count": 75,
     "metadata": {},
     "output_type": "execute_result"
    }
   ],
   "source": [
    "b1 - b2"
   ]
  },
  {
   "cell_type": "code",
   "execution_count": 76,
   "id": "9d56f0d5-5e88-4f36-a47d-2cc069a2b123",
   "metadata": {
    "tags": []
   },
   "outputs": [],
   "source": [
    "s = \"this is my first data 'science' class\"\n"
   ]
  },
  {
   "cell_type": "code",
   "execution_count": 77,
   "id": "87148a00-277c-4c7d-bb9c-a31cd7674256",
   "metadata": {},
   "outputs": [
    {
     "data": {
      "text/plain": [
       "\"this is my first data 'science' class\""
      ]
     },
     "execution_count": 77,
     "metadata": {},
     "output_type": "execute_result"
    }
   ],
   "source": [
    "s"
   ]
  },
  {
   "cell_type": "code",
   "execution_count": null,
   "id": "5d07067b-09da-45d7-917f-edf3ae9ea212",
   "metadata": {},
   "outputs": [],
   "source": []
  },
  {
   "cell_type": "code",
   "execution_count": 78,
   "id": "ff109e17-af9d-4736-ac3c-0b486f7dd07d",
   "metadata": {},
   "outputs": [
    {
     "data": {
      "text/plain": [
       "\"this is my first data 'science' class\""
      ]
     },
     "execution_count": 78,
     "metadata": {},
     "output_type": "execute_result"
    }
   ],
   "source": [
    "# single line comment\n",
    "'''multi line \n",
    "comment'''\n",
    "\"\"\" multi line comment\n",
    "ok                \"\"\"\n",
    "s"
   ]
  },
  {
   "cell_type": "code",
   "execution_count": 79,
   "id": "cfd44738-2e75-4a18-aee9-24744c63d7b5",
   "metadata": {},
   "outputs": [],
   "source": [
    "s1 =\"sudh\"\n"
   ]
  },
  {
   "cell_type": "code",
   "execution_count": 80,
   "id": "dab30d8e-6c44-4e8f-844e-619b9948bfd0",
   "metadata": {},
   "outputs": [],
   "source": [
    "a1=10"
   ]
  },
  {
   "cell_type": "code",
   "execution_count": 81,
   "id": "ff7f5996-31da-4f9b-be0a-ede810b18346",
   "metadata": {},
   "outputs": [
    {
     "data": {
      "text/plain": [
       "'sudh 10'"
      ]
     },
     "execution_count": 81,
     "metadata": {},
     "output_type": "execute_result"
    }
   ],
   "source": [
    "s1+\" \"+str(a1) #in this s1 is string but a1 is int so we have type casting to change int to string"
   ]
  },
  {
   "cell_type": "code",
   "execution_count": 82,
   "id": "7cba9c81-751a-4e75-9b7c-3eb58c1dabc1",
   "metadata": {},
   "outputs": [
    {
     "data": {
      "text/plain": [
       "'sudhkumar'"
      ]
     },
     "execution_count": 82,
     "metadata": {},
     "output_type": "execute_result"
    }
   ],
   "source": [
    "\"sudh\" + \"kumar\""
   ]
  },
  {
   "cell_type": "code",
   "execution_count": 83,
   "id": "c41e7d2e-c5e1-4c07-aad8-599ceb84361d",
   "metadata": {},
   "outputs": [
    {
     "name": "stdin",
     "output_type": "stream",
     "text": [
      " 41\n"
     ]
    }
   ],
   "source": [
    "b=input()  #function that ask  to fill what is output after running"
   ]
  },
  {
   "cell_type": "code",
   "execution_count": 84,
   "id": "80028661-763b-45f6-8d5a-bc54122dacd9",
   "metadata": {},
   "outputs": [
    {
     "name": "stdin",
     "output_type": "stream",
     "text": [
      " 24\n"
     ]
    }
   ],
   "source": [
    "b = input()"
   ]
  },
  {
   "cell_type": "code",
   "execution_count": 85,
   "id": "a6d5d847-1314-47b5-9629-31622824f245",
   "metadata": {},
   "outputs": [
    {
     "data": {
      "text/plain": [
       "'24'"
      ]
     },
     "execution_count": 85,
     "metadata": {},
     "output_type": "execute_result"
    }
   ],
   "source": [
    "b\n"
   ]
  },
  {
   "cell_type": "code",
   "execution_count": 86,
   "id": "5a016d7d-70f2-48c6-ab23-c5b387d03275",
   "metadata": {},
   "outputs": [
    {
     "data": {
      "text/plain": [
       "str"
      ]
     },
     "execution_count": 86,
     "metadata": {},
     "output_type": "execute_result"
    }
   ],
   "source": [
    "type(b) # type of data will be always string in input function"
   ]
  },
  {
   "cell_type": "code",
   "execution_count": 87,
   "id": "083d3c64-a424-48ad-a439-1cb9e80e31ea",
   "metadata": {},
   "outputs": [
    {
     "name": "stdin",
     "output_type": "stream",
     "text": [
      " 54\n"
     ]
    }
   ],
   "source": [
    "b = int(input()) #here we have done type casting whole input type has been changed to int (bool,float)"
   ]
  },
  {
   "cell_type": "code",
   "execution_count": 88,
   "id": "bd054082-5182-4729-a7af-783086bf8d40",
   "metadata": {},
   "outputs": [
    {
     "data": {
      "text/plain": [
       "int"
      ]
     },
     "execution_count": 88,
     "metadata": {},
     "output_type": "execute_result"
    }
   ],
   "source": [
    "type(b)"
   ]
  },
  {
   "cell_type": "code",
   "execution_count": 94,
   "id": "54958cd2-26c8-4c0a-994c-9df0e0a230ee",
   "metadata": {},
   "outputs": [],
   "source": [
    "a = \"sudh\"\n"
   ]
  },
  {
   "cell_type": "code",
   "execution_count": 96,
   "id": "47d0fe16-4b10-4e4c-b23a-d16cdb17259e",
   "metadata": {},
   "outputs": [
    {
     "data": {
      "text/plain": [
       "'d'"
      ]
     },
     "execution_count": 96,
     "metadata": {},
     "output_type": "execute_result"
    }
   ],
   "source": [
    "a[2]"
   ]
  },
  {
   "cell_type": "code",
   "execution_count": 95,
   "id": "a61a7058-654c-41ca-a8e8-5d2c8638fdd2",
   "metadata": {},
   "outputs": [
    {
     "data": {
      "text/plain": [
       "'h'"
      ]
     },
     "execution_count": 95,
     "metadata": {},
     "output_type": "execute_result"
    }
   ],
   "source": [
    "a[-1]"
   ]
  },
  {
   "cell_type": "code",
   "execution_count": 91,
   "id": "8c1cc823-3ad0-4a90-8259-5c3ec228ed3a",
   "metadata": {},
   "outputs": [],
   "source": [
    "s1 = \"pwskills\""
   ]
  },
  {
   "cell_type": "code",
   "execution_count": 97,
   "id": "94a62572-6819-4b8b-b8ec-d60bcb287885",
   "metadata": {},
   "outputs": [
    {
     "data": {
      "text/plain": [
       "'pw'"
      ]
     },
     "execution_count": 97,
     "metadata": {},
     "output_type": "execute_result"
    }
   ],
   "source": [
    "s1[0:2]   # slicing operation it willextract start from give  0and it will go 2-1 at last"
   ]
  },
  {
   "cell_type": "code",
   "execution_count": 100,
   "id": "6180ce2a-ffbd-4f7e-a738-528adbb80306",
   "metadata": {},
   "outputs": [
    {
     "data": {
      "text/plain": [
       "'skills'"
      ]
     },
     "execution_count": 100,
     "metadata": {},
     "output_type": "execute_result"
    }
   ],
   "source": [
    "s1[2:7] # in this case starting from 2 and (7-1) it will give till 6\n"
   ]
  },
  {
   "cell_type": "code",
   "execution_count": 102,
   "id": "66f0fb62-6a41-42d3-8aa6-9084cc53805e",
   "metadata": {},
   "outputs": [
    {
     "data": {
      "text/plain": [
       "'skills'"
      ]
     },
     "execution_count": 102,
     "metadata": {},
     "output_type": "execute_result"
    }
   ],
   "source": [
    "s1[2:]\n"
   ]
  },
  {
   "cell_type": "code",
   "execution_count": 103,
   "id": "180af240-88ba-4345-8f44-c11b2bdbd6b9",
   "metadata": {},
   "outputs": [
    {
     "data": {
      "text/plain": [
       "'psil'"
      ]
     },
     "execution_count": 103,
     "metadata": {},
     "output_type": "execute_result"
    }
   ],
   "source": [
    "s1[0:7:2]  #first is starting point : second is end column : and third is jump or step\n"
   ]
  },
  {
   "cell_type": "code",
   "execution_count": 107,
   "id": "b73b6d22-be75-4280-9044-b33d627ddbaa",
   "metadata": {},
   "outputs": [
    {
     "data": {
      "text/plain": [
       "'slli'"
      ]
     },
     "execution_count": 107,
     "metadata": {},
     "output_type": "execute_result"
    }
   ],
   "source": [
    "s1[7:3:-1] # for backward slicing we use -1 it jump in negative side"
   ]
  },
  {
   "cell_type": "code",
   "execution_count": 109,
   "id": "a212ab6b-f33a-47b2-9aea-3d5ce1bd6215",
   "metadata": {},
   "outputs": [
    {
     "data": {
      "text/plain": [
       "'slli'"
      ]
     },
     "execution_count": 109,
     "metadata": {},
     "output_type": "execute_result"
    }
   ],
   "source": [
    "s1[-1:-5:-1]"
   ]
  },
  {
   "cell_type": "markdown",
   "id": "e978fc39-9a01-4171-b2bc-8d1dbad6b190",
   "metadata": {},
   "source": [
    "# string is immutable because we cant change data at point by s1[0]=p it can't change"
   ]
  },
  {
   "cell_type": "code",
   "execution_count": 111,
   "id": "5b5e97aa-669e-470d-9317-09c477456492",
   "metadata": {},
   "outputs": [
    {
     "data": {
      "text/plain": [
       "'sllikswp'"
      ]
     },
     "execution_count": 111,
     "metadata": {},
     "output_type": "execute_result"
    }
   ],
   "source": [
    "s1[::-1]  # in this case starting from 0 and goes to till last and it will come in reverse"
   ]
  },
  {
   "cell_type": "code",
   "execution_count": 112,
   "id": "5bb93812-6c36-4edf-acf7-bf5242fca593",
   "metadata": {},
   "outputs": [
    {
     "data": {
      "text/plain": [
       "'pwskills'"
      ]
     },
     "execution_count": 112,
     "metadata": {},
     "output_type": "execute_result"
    }
   ],
   "source": [
    "s1"
   ]
  },
  {
   "cell_type": "code",
   "execution_count": null,
   "id": "2bb5f86e-ad2f-4120-9bcb-582556dd873a",
   "metadata": {},
   "outputs": [],
   "source": []
  },
  {
   "cell_type": "code",
   "execution_count": null,
   "id": "d305de1c-1282-419b-b171-cec5c3a54916",
   "metadata": {},
   "outputs": [],
   "source": []
  }
 ],
 "metadata": {
  "kernelspec": {
   "display_name": "Python 3 (ipykernel)",
   "language": "python",
   "name": "python3"
  },
  "language_info": {
   "codemirror_mode": {
    "name": "ipython",
    "version": 3
   },
   "file_extension": ".py",
   "mimetype": "text/x-python",
   "name": "python",
   "nbconvert_exporter": "python",
   "pygments_lexer": "ipython3",
   "version": "3.10.8"
  }
 },
 "nbformat": 4,
 "nbformat_minor": 5
}
